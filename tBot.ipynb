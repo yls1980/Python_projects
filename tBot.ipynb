{
 "cells": [
  {
   "cell_type": "code",
   "execution_count": 1,
   "metadata": {},
   "outputs": [
    {
     "name": "stdout",
     "output_type": "stream",
     "text": [
      "Collecting pytelegrambotapi\n",
      "\u001b[?25l  Downloading https://files.pythonhosted.org/packages/25/5e/9711642455c4e17b1202d4f6403ede0fef37fc145038aee7193f3b24445e/pyTelegramBotAPI-3.6.6.tar.gz (49kB)\n",
      "\u001b[K    100% |████████████████████████████████| 51kB 427kB/s ta 0:00:01\n",
      "\u001b[?25hRequirement already satisfied: requests in ./anaconda3/lib/python3.7/site-packages (from pytelegrambotapi) (2.21.0)\n",
      "Requirement already satisfied: six in ./anaconda3/lib/python3.7/site-packages (from pytelegrambotapi) (1.12.0)\n",
      "Requirement already satisfied: certifi>=2017.4.17 in ./anaconda3/lib/python3.7/site-packages (from requests->pytelegrambotapi) (2018.11.29)\n",
      "Requirement already satisfied: chardet<3.1.0,>=3.0.2 in ./anaconda3/lib/python3.7/site-packages (from requests->pytelegrambotapi) (3.0.4)\n",
      "Requirement already satisfied: urllib3<1.25,>=1.21.1 in ./anaconda3/lib/python3.7/site-packages (from requests->pytelegrambotapi) (1.24.1)\n",
      "Requirement already satisfied: idna<2.9,>=2.5 in ./anaconda3/lib/python3.7/site-packages (from requests->pytelegrambotapi) (2.8)\n",
      "Building wheels for collected packages: pytelegrambotapi\n",
      "  Running setup.py bdist_wheel for pytelegrambotapi ... \u001b[?25ldone\n",
      "\u001b[?25h  Stored in directory: /home/zorro/.cache/pip/wheels/ae/69/d7/26f1fb04ac4d4c95bff643cea765a8e91c4348da25b4744e08\n",
      "Successfully built pytelegrambotapi\n",
      "Installing collected packages: pytelegrambotapi\n",
      "Successfully installed pytelegrambotapi-3.6.6\n"
     ]
    }
   ],
   "source": [
    "!pip install pytelegrambotapi"
   ]
  },
  {
   "cell_type": "code",
   "execution_count": 43,
   "metadata": {},
   "outputs": [
    {
     "name": "stdout",
     "output_type": "stream",
     "text": [
      "d\n"
     ]
    }
   ],
   "source": [
    "print('dgfdgf'[0])"
   ]
  },
  {
   "cell_type": "code",
   "execution_count": 71,
   "metadata": {},
   "outputs": [],
   "source": [
    "#!pip install googletrans\n",
    "# функция переводчик\n",
    "import re\n",
    "from googletrans import Translator\n",
    "def ftranslator(vstr):\n",
    "    translator = Translator()\n",
    "    #pl = re.findall('[A-Z][a-z]*', vstr)\n",
    "    #spl = vstr\n",
    "    #f_n = \" \".join(spl)\n",
    "    try:\n",
    "        a = int(vstr[0])\n",
    "        vstr = vstr[1:]\n",
    "    except:\n",
    "        a=-1\n",
    "    if a==0:\n",
    "        dest='en'\n",
    "    else:\n",
    "        dest='ru'    \n",
    "    #translated = translator.translate(vstr, src='en', dest=dest)\n",
    "    translated = translator.translate(vstr, dest=dest)\n",
    "    return translated.text    "
   ]
  },
  {
   "cell_type": "code",
   "execution_count": 22,
   "metadata": {},
   "outputs": [
    {
     "name": "stdout",
     "output_type": "stream",
     "text": [
      "Collecting langdetect\n",
      "\u001b[?25l  Downloading https://files.pythonhosted.org/packages/59/59/4bc44158a767a6d66de18c4136c8aa90491d56cc951c10b74dd1e13213c9/langdetect-1.0.7.zip (998kB)\n",
      "\u001b[K    100% |████████████████████████████████| 1.0MB 942kB/s ta 0:00:01    21% |███████                         | 215kB 2.0MB/s eta 0:00:01\n",
      "\u001b[?25hRequirement already satisfied: six in ./anaconda3/lib/python3.7/site-packages (from langdetect) (1.12.0)\n",
      "Building wheels for collected packages: langdetect\n",
      "  Running setup.py bdist_wheel for langdetect ... \u001b[?25ldone\n",
      "\u001b[?25h  Stored in directory: /home/zorro/.cache/pip/wheels/ec/0c/a9/1647275e7ef5014e7b83ff30105180e332867d65e7617ddafe\n",
      "Successfully built langdetect\n",
      "Installing collected packages: langdetect\n",
      "Successfully installed langdetect-1.0.7\n"
     ]
    }
   ],
   "source": [
    "!pip install langdetect"
   ]
  },
  {
   "cell_type": "code",
   "execution_count": 29,
   "metadata": {},
   "outputs": [
    {
     "name": "stdout",
     "output_type": "stream",
     "text": [
      "[tr:0.9999957253413746]\n",
      "tr\n"
     ]
    }
   ],
   "source": [
    "from langdetect import detect, detect_langs\n",
    "list_of_languages = detect_langs(\"girl\") \n",
    "print(list_of_languages)\n",
    "print(list_of_languages[0].lang)"
   ]
  },
  {
   "cell_type": "code",
   "execution_count": 58,
   "metadata": {},
   "outputs": [
    {
     "name": "stdout",
     "output_type": "stream",
     "text": [
      "vstr=Хороший пес\n"
     ]
    }
   ],
   "source": [
    "vstr = '1Хороший пес'\n",
    "vstr = vstr[1:]\n",
    "print(\"vstr=\"+vstr)"
   ]
  },
  {
   "cell_type": "code",
   "execution_count": 6,
   "metadata": {},
   "outputs": [],
   "source": [
    "import telebot;\n",
    "bot = telebot.TeleBot('801584528:AAGzwxntxlRDufHPwJPWqOAbDg6DPv2m_oo');"
   ]
  },
  {
   "cell_type": "code",
   "execution_count": 75,
   "metadata": {},
   "outputs": [
    {
     "name": "stdout",
     "output_type": "stream",
     "text": [
      ")\n"
     ]
    }
   ],
   "source": [
    "print(ftranslator(')'))"
   ]
  },
  {
   "cell_type": "code",
   "execution_count": 8,
   "metadata": {},
   "outputs": [
    {
     "name": "stderr",
     "output_type": "stream",
     "text": [
      "2019-04-05 10:09:35,062 (util.py:65 PollingThread) ERROR - TeleBot: \"ApiException occurred, args=('A request to the Telegram API was unsuccessful. The server returned HTTP 409 Conflict. Response body:\\n[b\\'{\"ok\":false,\"error_code\":409,\"description\":\"Conflict: terminated by other getUpdates request; make sure that only one bot instance is running\"}\\']',)\n",
      "Traceback (most recent call last):\n",
      "  File \"/home/zorro/anaconda3/lib/python3.7/site-packages/telebot/util.py\", line 59, in run\n",
      "    task(*args, **kwargs)\n",
      "  File \"/home/zorro/anaconda3/lib/python3.7/site-packages/telebot/__init__.py\", line 276, in __retrieve_updates\n",
      "    updates = self.get_updates(offset=(self.last_update_id + 1), timeout=timeout)\n",
      "  File \"/home/zorro/anaconda3/lib/python3.7/site-packages/telebot/__init__.py\", line 246, in get_updates\n",
      "    json_updates = apihelper.get_updates(self.token, offset, limit, timeout, allowed_updates)\n",
      "  File \"/home/zorro/anaconda3/lib/python3.7/site-packages/telebot/apihelper.py\", line 180, in get_updates\n",
      "    return _make_request(token, method_url, params=payload)\n",
      "  File \"/home/zorro/anaconda3/lib/python3.7/site-packages/telebot/apihelper.py\", line 56, in _make_request\n",
      "    return _check_result(method_name, result)['result']\n",
      "  File \"/home/zorro/anaconda3/lib/python3.7/site-packages/telebot/apihelper.py\", line 75, in _check_result\n",
      "    raise ApiException(msg, method_name, result)\n",
      "telebot.apihelper.ApiException: A request to the Telegram API was unsuccessful. The server returned HTTP 409 Conflict. Response body:\n",
      "[b'{\"ok\":false,\"error_code\":409,\"description\":\"Conflict: terminated by other getUpdates request; make sure that only one bot instance is running\"}']\n",
      "\"\n"
     ]
    }
   ],
   "source": [
    "@bot.message_handler(content_types=['text'])\n",
    "def get_text_messages(message):\n",
    "    ruWord = message.text;\n",
    "    enWord = \"Перевод: \"+ruWord+' - '+ftranslator(ruWord)\n",
    "    bot.send_message(message.from_user.id, enWord)\n",
    "bot.polling(none_stop=True, interval=0)        "
   ]
  }
 ],
 "metadata": {
  "kernelspec": {
   "display_name": "Python 3",
   "language": "python",
   "name": "python3"
  },
  "language_info": {
   "codemirror_mode": {
    "name": "ipython",
    "version": 3
   },
   "file_extension": ".py",
   "mimetype": "text/x-python",
   "name": "python",
   "nbconvert_exporter": "python",
   "pygments_lexer": "ipython3",
   "version": "3.7.1"
  }
 },
 "nbformat": 4,
 "nbformat_minor": 2
}
