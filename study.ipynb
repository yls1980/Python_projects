{
 "cells": [
  {
   "cell_type": "code",
   "execution_count": 1,
   "metadata": {},
   "outputs": [
    {
     "ename": "ModuleNotFoundError",
     "evalue": "No module named 'boto3'",
     "output_type": "error",
     "traceback": [
      "\u001b[0;31m---------------------------------------------------------------------------\u001b[0m",
      "\u001b[0;31mModuleNotFoundError\u001b[0m                       Traceback (most recent call last)",
      "\u001b[0;32m<ipython-input-1-faf6ace74733>\u001b[0m in \u001b[0;36m<module>\u001b[0;34m\u001b[0m\n\u001b[0;32m----> 1\u001b[0;31m \u001b[0;32mimport\u001b[0m \u001b[0mboto3\u001b[0m\u001b[0;34m\u001b[0m\u001b[0;34m\u001b[0m\u001b[0m\n\u001b[0m\u001b[1;32m      2\u001b[0m \u001b[0;32mfrom\u001b[0m \u001b[0mbotocore\u001b[0m\u001b[0;34m.\u001b[0m\u001b[0mexceptions\u001b[0m \u001b[0;32mimport\u001b[0m \u001b[0mClientError\u001b[0m\u001b[0;34m\u001b[0m\u001b[0;34m\u001b[0m\u001b[0m\n",
      "\u001b[0;31mModuleNotFoundError\u001b[0m: No module named 'boto3'"
     ]
    }
   ],
   "source": [
    "!pip install boto3"
   ]
  },
  {
   "cell_type": "code",
   "execution_count": null,
   "metadata": {},
   "outputs": [],
   "source": []
  },
  {
   "cell_type": "code",
   "execution_count": 13,
   "metadata": {},
   "outputs": [
    {
     "name": "stdout",
     "output_type": "stream",
     "text": [
      "163.0\n"
     ]
    }
   ],
   "source": [
    "a = 361\n",
    "b = (a-a%100)\n",
    "c = ((a-b)//10)\n",
    "d = a-c*10-b\n",
    "print (d*100+c*10+b/100)"
   ]
  },
  {
   "cell_type": "code",
   "execution_count": 2,
   "metadata": {},
   "outputs": [
    {
     "name": "stdout",
     "output_type": "stream",
     "text": [
      "True\n"
     ]
    }
   ],
   "source": [
    "long_phrase = 'Насколько проще было бы писать программы, если бы не заказчики'\n",
    "short_phrase = '640Кб должно хватить для любых задач. Билл Гейтс (по легенде)'\n",
    "if long_phrase>short_phrase:\n",
    "    print('True')\n",
    "else:\n",
    "    print('false')"
   ]
  },
  {
   "cell_type": "code",
   "execution_count": 6,
   "metadata": {},
   "outputs": [
    {
     "name": "stdout",
     "output_type": "stream",
     "text": [
      "а\n"
     ]
    }
   ],
   "source": [
    "text = 'Если программист в 9-00 утра на работе, значит, он там и ночевал'\n",
    "if text.count(\"и\")>text.count(\"а\"):\n",
    "    print ('и')\n",
    "else:    \n",
    "    print ('а')"
   ]
  },
  {
   "cell_type": "code",
   "execution_count": 27,
   "metadata": {},
   "outputs": [
    {
     "name": "stdout",
     "output_type": "stream",
     "text": [
      "20\n"
     ]
    },
    {
     "data": {
      "text/plain": [
       "'начение синуса 30 градусов равно -0.9880316240928618'"
      ]
     },
     "execution_count": 27,
     "metadata": {},
     "output_type": "execute_result"
    }
   ],
   "source": [
    "import math\n",
    "print('%X' % (32))\n",
    "a= 354845435345\n",
    "b=a/(1024*1024)\n",
    "'Объем файла равен %0.2fMb' % b\n",
    "z= math.sin(30)\n",
    "'начение синуса 30 градусов равно %s' % z\n",
    "    "
   ]
  },
  {
   "cell_type": "code",
   "execution_count": 1,
   "metadata": {},
   "outputs": [
    {
     "name": "stdout",
     "output_type": "stream",
     "text": [
      "0.3\n"
     ]
    }
   ],
   "source": [
    "a =  0.1 + 0.2\n",
    "print (round(a,2))"
   ]
  },
  {
   "cell_type": "code",
   "execution_count": 6,
   "metadata": {},
   "outputs": [
    {
     "name": "stdout",
     "output_type": "stream",
     "text": [
      "a=200 b=100\n"
     ]
    }
   ],
   "source": [
    "a=100\n",
    "b=200\n",
    "a,b=b,a\n",
    "print ('a=%s b=%s' % (a,b))"
   ]
  },
  {
   "cell_type": "code",
   "execution_count": 8,
   "metadata": {},
   "outputs": [
    {
     "name": "stdout",
     "output_type": "stream",
     "text": [
      "19\n"
     ]
    }
   ],
   "source": [
    "um=10011\n",
    "b= int(str(um),2)\n",
    "print (b)"
   ]
  },
  {
   "cell_type": "code",
   "execution_count": 38,
   "metadata": {},
   "outputs": [
    {
     "name": "stdout",
     "output_type": "stream",
     "text": [
      "19\n"
     ]
    }
   ],
   "source": [
    "#перевод в двоичную\n",
    "um=str(10011)\n",
    "a=0\n",
    "z=0\n",
    "for i in um[::-1]:\n",
    "    z+=int(1)\n",
    "    a+=int(i)*2 **(z-1)    \n",
    "    #print ('%s * 2^%s' % (i,z-1))    \n",
    "print (a)    "
   ]
  },
  {
   "cell_type": "code",
   "execution_count": 3,
   "metadata": {},
   "outputs": [
    {
     "name": "stdout",
     "output_type": "stream",
     "text": [
      "Requirement already satisfied: mingus in ./anaconda3/lib/python3.7/site-packages (0.5.1)\r\n"
     ]
    }
   ],
   "source": [
    "!pip install mingus"
   ]
  },
  {
   "cell_type": "code",
   "execution_count": 5,
   "metadata": {},
   "outputs": [
    {
     "name": "stdout",
     "output_type": "stream",
     "text": [
      "Collecting sequencer\n",
      "\u001b[?25l  Downloading https://files.pythonhosted.org/packages/e5/a9/f5a1c930e937cf2579604a6a86d01d769773a5fa712ecc2384fbafc859f8/sequencer-1.8.4.tar.gz (74kB)\n",
      "\u001b[K    100% |████████████████████████████████| 81kB 276kB/s ta 0:00:01\n",
      "\u001b[?25hCollecting ClusterShell>=1.5 (from sequencer)\n",
      "\u001b[?25l  Downloading https://files.pythonhosted.org/packages/7f/63/d8c86ebdfd64195e2de73447a8729e7735d7654db14c9da0c52cda6b3ebc/ClusterShell-1.8.1.tar.gz (355kB)\n",
      "\u001b[K    100% |████████████████████████████████| 358kB 263kB/s ta 0:00:01\n",
      "\u001b[?25hCollecting python-graph-core>=1.7.0 (from sequencer)\n",
      "  Downloading https://files.pythonhosted.org/packages/a0/5c/ee07fb6b40df2fe63de17e836cc8af32e655aee0832000510ff5ed3e754c/python-graph-core-1.8.2.tar.gz\n",
      "Collecting python-graph-dot>=1.7.0 (from sequencer)\n",
      "  Downloading https://files.pythonhosted.org/packages/2e/a1/447275b946338f0e5b9861f18be7a0423de7d405205dc515b40f7b2d91ba/python-graph-dot-1.8.2.tar.gz\n",
      "Collecting pydot (from sequencer)\n",
      "  Downloading https://files.pythonhosted.org/packages/33/d1/b1479a770f66d962f545c2101630ce1d5592d90cb4f083d38862e93d16d2/pydot-1.4.1-py2.py3-none-any.whl\n",
      "Requirement already satisfied: lxml>=2.2.3 in ./anaconda3/lib/python3.7/site-packages (from sequencer) (4.2.5)\n",
      "Requirement already satisfied: PyYAML in ./anaconda3/lib/python3.7/site-packages (from ClusterShell>=1.5->sequencer) (3.13)\n",
      "Requirement already satisfied: pyparsing>=2.1.4 in ./anaconda3/lib/python3.7/site-packages (from pydot->sequencer) (2.3.0)\n",
      "Building wheels for collected packages: sequencer, ClusterShell, python-graph-core, python-graph-dot\n",
      "  Running setup.py bdist_wheel for sequencer ... \u001b[?25ldone\n",
      "\u001b[?25h  Stored in directory: /home/zorro/.cache/pip/wheels/42/22/bf/82227e32eab304b55ec4656462da11184e78ff45333bc4f085\n",
      "  Running setup.py bdist_wheel for ClusterShell ... \u001b[?25ldone\n",
      "\u001b[?25h  Stored in directory: /home/zorro/.cache/pip/wheels/be/a8/64/8c731baa93c69d2cf1de1df7472b8118faff511c681d1d673f\n",
      "  Running setup.py bdist_wheel for python-graph-core ... \u001b[?25ldone\n",
      "\u001b[?25h  Stored in directory: /home/zorro/.cache/pip/wheels/1f/ce/47/015c1a3e54c2aa5dacd136a7da232a923658774fb7a0f7b4a7\n",
      "  Running setup.py bdist_wheel for python-graph-dot ... \u001b[?25ldone\n",
      "\u001b[?25h  Stored in directory: /home/zorro/.cache/pip/wheels/e7/e5/5b/8c02f245aeba3c923a3cf57d62032032f413bf04c5495d0e67\n",
      "Successfully built sequencer ClusterShell python-graph-core python-graph-dot\n",
      "Installing collected packages: ClusterShell, python-graph-core, pydot, python-graph-dot, sequencer\n",
      "Successfully installed ClusterShell-1.8.1 pydot-1.4.1 python-graph-core-1.8.2 python-graph-dot-1.8.2 sequencer-1.8.4\n"
     ]
    }
   ],
   "source": [
    "!pip install sequencer"
   ]
  },
  {
   "cell_type": "code",
   "execution_count": 11,
   "metadata": {},
   "outputs": [
    {
     "name": "stdout",
     "output_type": "stream",
     "text": [
      "Collecting fluidsynth\n",
      "  Downloading https://files.pythonhosted.org/packages/87/db/471488e0ac26ffd0b73e49f1fedc3b557195f45aa0d1e6e9193c510024d3/fluidsynth-0.2.tar.gz\n",
      "Building wheels for collected packages: fluidsynth\n",
      "  Running setup.py bdist_wheel for fluidsynth ... \u001b[?25ldone\n",
      "\u001b[?25h  Stored in directory: /home/zorro/.cache/pip/wheels/2d/70/4d/ffe2589bbfe9c268780570a6875583fbf59547004459e2c3c3\n",
      "Successfully built fluidsynth\n",
      "Installing collected packages: fluidsynth\n",
      "Successfully installed fluidsynth-0.2\n"
     ]
    }
   ],
   "source": [
    "!pip install fluidsynth"
   ]
  },
  {
   "cell_type": "code",
   "execution_count": 26,
   "metadata": {},
   "outputs": [],
   "source": [
    "ids = {'user1': [213, 213, 213, 15, 213], \n",
    "       'user2': [54, 54, 119, 119, 119], \n",
    "       'user3': [213, 98, 98, 35]}"
   ]
  },
  {
   "cell_type": "code",
   "execution_count": 37,
   "metadata": {},
   "outputs": [
    {
     "ename": "NameError",
     "evalue": "name 'byName_key' is not defined",
     "output_type": "error",
     "traceback": [
      "\u001b[0;31m---------------------------------------------------------------------------\u001b[0m",
      "\u001b[0;31mNameError\u001b[0m                                 Traceback (most recent call last)",
      "\u001b[0;32m<ipython-input-37-1a41f4f942a7>\u001b[0m in \u001b[0;36m<module>\u001b[0;34m\u001b[0m\n\u001b[1;32m     11\u001b[0m \u001b[0;34m'visit10'\u001b[0m\u001b[0;34m:\u001b[0m\u001b[0;34m[\u001b[0m\u001b[0;34m'Архангельск'\u001b[0m\u001b[0;34m,\u001b[0m \u001b[0;34m'Россия'\u001b[0m\u001b[0;34m]\u001b[0m\u001b[0;34m,\u001b[0m\u001b[0;34m\u001b[0m\u001b[0;34m\u001b[0m\u001b[0m\n\u001b[1;32m     12\u001b[0m     }\n\u001b[0;32m---> 13\u001b[0;31m \u001b[0mz\u001b[0m \u001b[0;34m=\u001b[0m \u001b[0msorted\u001b[0m\u001b[0;34m(\u001b[0m\u001b[0mgeo_logs\u001b[0m\u001b[0;34m,\u001b[0m \u001b[0mkey\u001b[0m \u001b[0;34m=\u001b[0m \u001b[0mbyName_key\u001b[0m\u001b[0;34m)\u001b[0m\u001b[0;34m\u001b[0m\u001b[0;34m\u001b[0m\u001b[0m\n\u001b[0m\u001b[1;32m     14\u001b[0m \u001b[0mprint\u001b[0m\u001b[0;34m(\u001b[0m\u001b[0mgeo_logs\u001b[0m\u001b[0;34m)\u001b[0m\u001b[0;34m\u001b[0m\u001b[0;34m\u001b[0m\u001b[0m\n",
      "\u001b[0;31mNameError\u001b[0m: name 'byName_key' is not defined"
     ]
    }
   ],
   "source": [
    "geo_logs = {\n",
    "'visit1': ['Москва', 'Россия'],\n",
    "'visit2': ['Дели', 'Индия'],\n",
    "'visit3': ['Владимир', 'Россия'],\n",
    "'visit4': ['Лиссабон', 'Португалия'],\n",
    "'visit5': ['Париж', 'Франция'],\n",
    "'visit6': ['Лиссабон', 'Португалия'],\n",
    "'visit7': ['Тула', 'Россия'],\n",
    "'visit8': ['Тула', 'Россия'],\n",
    "'visit9': ['Курск', 'Россия'],\n",
    "'visit10':['Архангельск', 'Россия'],\n",
    "    }\n",
    "z = sorted(geo_logs, key = byName_key)\n",
    "print(geo_logs)"
   ]
  },
  {
   "cell_type": "code",
   "execution_count": 10,
   "metadata": {},
   "outputs": [
    {
     "ename": "ImportError",
     "evalue": "cannot import name 'Sequencer' from 'sequencer' (/home/zorro/anaconda3/lib/python3.7/site-packages/sequencer/__init__.py)",
     "output_type": "error",
     "traceback": [
      "\u001b[0;31m---------------------------------------------------------------------------\u001b[0m",
      "\u001b[0;31mImportError\u001b[0m                               Traceback (most recent call last)",
      "\u001b[0;32m<ipython-input-10-7dae77f185a9>\u001b[0m in \u001b[0;36m<module>\u001b[0;34m\u001b[0m\n\u001b[0;32m----> 1\u001b[0;31m \u001b[0;32mfrom\u001b[0m \u001b[0msequencer\u001b[0m \u001b[0;32mimport\u001b[0m \u001b[0mSequencer\u001b[0m\u001b[0;34m\u001b[0m\u001b[0;34m\u001b[0m\u001b[0m\n\u001b[0m",
      "\u001b[0;31mImportError\u001b[0m: cannot import name 'Sequencer' from 'sequencer' (/home/zorro/anaconda3/lib/python3.7/site-packages/sequencer/__init__.py)"
     ]
    }
   ],
   "source": [
    "from sequencer import Sequencer"
   ]
  },
  {
   "cell_type": "code",
   "execution_count": 13,
   "metadata": {},
   "outputs": [
    {
     "name": "stdout",
     "output_type": "stream",
     "text": [
      "Collecting music\n",
      "\u001b[?25l  Downloading https://files.pythonhosted.org/packages/2c/18/69dabfbf86b93ac484fa788bd7293613a0200cbc6c92f219b79d41a447e3/music-0.1b0-py3-none-any.whl (40kB)\n",
      "\u001b[K    100% |████████████████████████████████| 40kB 237kB/s ta 0:00:01\n",
      "\u001b[?25hRequirement already satisfied: scipy in ./anaconda3/lib/python3.7/site-packages (from music) (1.1.0)\n",
      "Collecting termcolor (from music)\n",
      "  Downloading https://files.pythonhosted.org/packages/8a/48/a76be51647d0eb9f10e2a4511bf3ffb8cc1e6b14e9e4fab46173aa79f981/termcolor-1.1.0.tar.gz\n",
      "Requirement already satisfied: colorama in ./anaconda3/lib/python3.7/site-packages (from music) (0.4.1)\n",
      "Requirement already satisfied: numpy in ./anaconda3/lib/python3.7/site-packages (from music) (1.15.4)\n",
      "Requirement already satisfied: sympy in ./anaconda3/lib/python3.7/site-packages (from music) (1.3)\n",
      "Building wheels for collected packages: termcolor\n",
      "  Running setup.py bdist_wheel for termcolor ... \u001b[?25ldone\n",
      "\u001b[?25h  Stored in directory: /home/zorro/.cache/pip/wheels/7c/06/54/bc84598ba1daf8f970247f550b175aaaee85f68b4b0c5ab2c6\n",
      "Successfully built termcolor\n",
      "Installing collected packages: termcolor, music\n",
      "Successfully installed music-0.1b0 termcolor-1.1.0\n"
     ]
    }
   ],
   "source": [
    "!pip install music"
   ]
  },
  {
   "cell_type": "code",
   "execution_count": 58,
   "metadata": {},
   "outputs": [
    {
     "name": "stdout",
     "output_type": "stream",
     "text": [
      "Привет 3.1429\n",
      "Привет 314.2857%\n",
      "аиаипи\n",
      "Привет ккк (3.1429) синус 20 = (0.912945)\n"
     ]
    }
   ],
   "source": [
    "import math\n",
    "pi = 22/7\n",
    "print ('Привет {:0.4f}'.format(pi))\n",
    "print ('Привет {:0.4%}'.format(pi))\n",
    "print ('{1}{1}{2}'.format('пи','аи','пи'))\n",
    "print (f'Привет ккк ({pi:.4f}) синус 20 = ({math.sin(20):3f})')\n"
   ]
  },
  {
   "cell_type": "code",
   "execution_count": 63,
   "metadata": {},
   "outputs": [
    {
     "name": "stdout",
     "output_type": "stream",
     "text": [
      "CTR баннеров равен (0.053%)\n"
     ]
    }
   ],
   "source": [
    "a = 10**6\n",
    "b= 529\n",
    "print (f'CTR баннеров равен ({b/a:.3%})')"
   ]
  }
 ],
 "metadata": {
  "kernelspec": {
   "display_name": "Python 3",
   "language": "python",
   "name": "python3"
  },
  "language_info": {
   "codemirror_mode": {
    "name": "ipython",
    "version": 3
   },
   "file_extension": ".py",
   "mimetype": "text/x-python",
   "name": "python",
   "nbconvert_exporter": "python",
   "pygments_lexer": "ipython3",
   "version": "3.7.1"
  }
 },
 "nbformat": 4,
 "nbformat_minor": 2
}
