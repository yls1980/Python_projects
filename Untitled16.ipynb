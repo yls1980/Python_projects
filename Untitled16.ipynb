{
 "cells": [
  {
   "cell_type": "code",
   "execution_count": 1,
   "metadata": {},
   "outputs": [
    {
     "name": "stdout",
     "output_type": "stream",
     "text": [
      "\n",
      "The following command must be run outside of the IPython shell:\n",
      "\n",
      "    $ pip install pyinstaller\n",
      "\n",
      "The Python package manager (pip) can only be used from outside of IPython.\n",
      "Please reissue the `pip` command in a separate terminal or command prompt.\n",
      "\n",
      "See the Python documentation for more information on how to install packages:\n",
      "\n",
      "    https://docs.python.org/3/installing/\n"
     ]
    }
   ],
   "source": [
    "pip install pyinstaller"
   ]
  },
  {
   "cell_type": "code",
   "execution_count": 2,
   "metadata": {},
   "outputs": [
    {
     "name": "stdout",
     "output_type": "stream",
     "text": [
      "Collecting pyinstaller\n",
      "\u001b[?25l  Downloading https://files.pythonhosted.org/packages/03/32/0e0de593f129bf1d1e77eed562496d154ef4460fd5cecfd78612ef39a0cc/PyInstaller-3.4.tar.gz (3.5MB)\n",
      "\u001b[K    100% |████████████████████████████████| 3.5MB 1.3MB/s ta 0:00:011    94% |██████████████████████████████▏ | 3.3MB 1.2MB/s eta 0:00:01\n",
      "\u001b[?25h  Installing build dependencies ... \u001b[?25ldone\n",
      "\u001b[?25hRequirement already satisfied: setuptools in ./anaconda3/lib/python3.7/site-packages (from pyinstaller) (40.6.3)\n",
      "Collecting pefile>=2017.8.1 (from pyinstaller)\n",
      "\u001b[?25l  Downloading https://files.pythonhosted.org/packages/ed/cc/157f20038a80b6a9988abc06c11a4959be8305a0d33b6d21a134127092d4/pefile-2018.8.8.tar.gz (62kB)\n",
      "\u001b[K    100% |████████████████████████████████| 71kB 1.8MB/s ta 0:00:01\n",
      "\u001b[?25hCollecting macholib>=1.8 (from pyinstaller)\n",
      "  Downloading https://files.pythonhosted.org/packages/41/f1/6d23e1c79d68e41eb592338d90a33af813f98f2b04458aaf0b86908da2d8/macholib-1.11-py2.py3-none-any.whl\n",
      "Collecting altgraph (from pyinstaller)\n",
      "  Downloading https://files.pythonhosted.org/packages/0a/cc/646187eac4b797069e2e6b736f14cdef85dbe405c9bfc7803ef36e4f62ef/altgraph-0.16.1-py2.py3-none-any.whl\n",
      "Requirement already satisfied: future in ./anaconda3/lib/python3.7/site-packages (from pefile>=2017.8.1->pyinstaller) (0.17.1)\n",
      "Building wheels for collected packages: pyinstaller, pefile\n",
      "  Running setup.py bdist_wheel for pyinstaller ... \u001b[?25ldone\n",
      "\u001b[?25h  Stored in directory: /home/zorro/.cache/pip/wheels/09/ee/0a/94ef5d39074625f49e2e9cf97ac30cb7a87e1a7458ed195b8d\n",
      "  Running setup.py bdist_wheel for pefile ... \u001b[?25ldone\n",
      "\u001b[?25h  Stored in directory: /home/zorro/.cache/pip/wheels/d9/c6/56/a372ee1059440413d55d13f78adfd16c8719553a5b4efdd0c1\n",
      "Successfully built pyinstaller pefile\n",
      "Installing collected packages: pefile, altgraph, macholib, pyinstaller\n",
      "Successfully installed altgraph-0.16.1 macholib-1.11 pefile-2018.8.8 pyinstaller-3.4\n"
     ]
    }
   ],
   "source": [
    "!pip install pyinstaller"
   ]
  }
 ],
 "metadata": {
  "kernelspec": {
   "display_name": "Python 3",
   "language": "python",
   "name": "python3"
  },
  "language_info": {
   "codemirror_mode": {
    "name": "ipython",
    "version": 3
   },
   "file_extension": ".py",
   "mimetype": "text/x-python",
   "name": "python",
   "nbconvert_exporter": "python",
   "pygments_lexer": "ipython3",
   "version": "3.7.1"
  }
 },
 "nbformat": 4,
 "nbformat_minor": 2
}
